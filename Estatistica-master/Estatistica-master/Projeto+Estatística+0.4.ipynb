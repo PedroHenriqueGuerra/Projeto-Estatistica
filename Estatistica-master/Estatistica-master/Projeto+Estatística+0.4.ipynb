{
 "cells": [
  {
   "cell_type": "markdown",
   "metadata": {},
   "source": [
    "### Bibliotecas"
   ]
  },
  {
   "cell_type": "code",
   "execution_count": 7,
   "metadata": {},
   "outputs": [],
   "source": [
    "import pandas as pd\n",
    "import statistics\n",
    "import matplotlib.pyplot as plt\n",
    "%matplotlib inline"
   ]
  },
  {
   "cell_type": "markdown",
   "metadata": {},
   "source": [
    "### Gastos De Deputados\n",
    "Iremos analisar os gastos dos deputados e partidos brasileiros entre os anos de 2009 e 2019 a partir de dados disponibilizados pelo Governo Federal.\n",
    "\n",
    "### Escopo Do Projeto\n",
    "•Neste projeto iremos fazer uma analise geral dos gastos, ou seja, gastos dos partidos, gastos por ano entre outros.\n",
    "\n",
    "•Iremos analisar também com o que mais foi gasto e quais regiões gastam mais em relação a população.\n",
    "\n",
    "•Assim poderemos ter uma noção de quanto é gasto anualmente por deputados e seus partidos."
   ]
  },
  {
   "cell_type": "markdown",
   "metadata": {},
   "source": [
    "### Leitura de todos os CSV'S."
   ]
  },
  {
   "cell_type": "code",
   "execution_count": 8,
   "metadata": {},
   "outputs": [
    {
     "ename": "FileNotFoundError",
     "evalue": "[Errno 2] File b'projeto/Ano-2008.csv' does not exist: b'projeto/Ano-2008.csv'",
     "output_type": "error",
     "traceback": [
      "\u001b[1;31m---------------------------------------------------------------------------\u001b[0m",
      "\u001b[1;31mFileNotFoundError\u001b[0m                         Traceback (most recent call last)",
      "\u001b[1;32m<ipython-input-8-2d21c31dd117>\u001b[0m in \u001b[0;36m<module>\u001b[1;34m\u001b[0m\n\u001b[1;32m----> 1\u001b[1;33m \u001b[0mg2008\u001b[0m \u001b[1;33m=\u001b[0m \u001b[0mpd\u001b[0m\u001b[1;33m.\u001b[0m\u001b[0mread_csv\u001b[0m\u001b[1;33m(\u001b[0m\u001b[1;34m'projeto/Ano-2008.csv'\u001b[0m\u001b[1;33m,\u001b[0m\u001b[0msep\u001b[0m \u001b[1;33m=\u001b[0m \u001b[1;34m';'\u001b[0m\u001b[1;33m)\u001b[0m\u001b[1;33m\u001b[0m\u001b[1;33m\u001b[0m\u001b[0m\n\u001b[0m\u001b[0;32m      2\u001b[0m \u001b[0mg2009\u001b[0m \u001b[1;33m=\u001b[0m \u001b[0mpd\u001b[0m\u001b[1;33m.\u001b[0m\u001b[0mread_csv\u001b[0m\u001b[1;33m(\u001b[0m\u001b[1;34m'projeto/Ano-2009.csv'\u001b[0m\u001b[1;33m,\u001b[0m\u001b[0msep\u001b[0m \u001b[1;33m=\u001b[0m \u001b[1;34m';'\u001b[0m\u001b[1;33m)\u001b[0m\u001b[1;33m\u001b[0m\u001b[1;33m\u001b[0m\u001b[0m\n\u001b[0;32m      3\u001b[0m \u001b[0mg2010\u001b[0m \u001b[1;33m=\u001b[0m \u001b[0mpd\u001b[0m\u001b[1;33m.\u001b[0m\u001b[0mread_csv\u001b[0m\u001b[1;33m(\u001b[0m\u001b[1;34m'projeto/Ano-2010.csv'\u001b[0m\u001b[1;33m,\u001b[0m\u001b[0msep\u001b[0m \u001b[1;33m=\u001b[0m \u001b[1;34m';'\u001b[0m\u001b[1;33m)\u001b[0m\u001b[1;33m\u001b[0m\u001b[1;33m\u001b[0m\u001b[0m\n\u001b[0;32m      4\u001b[0m \u001b[0mg2011\u001b[0m \u001b[1;33m=\u001b[0m \u001b[0mpd\u001b[0m\u001b[1;33m.\u001b[0m\u001b[0mread_csv\u001b[0m\u001b[1;33m(\u001b[0m\u001b[1;34m'projeto/Ano-2011.csv'\u001b[0m\u001b[1;33m,\u001b[0m\u001b[0msep\u001b[0m \u001b[1;33m=\u001b[0m \u001b[1;34m';'\u001b[0m\u001b[1;33m)\u001b[0m\u001b[1;33m\u001b[0m\u001b[1;33m\u001b[0m\u001b[0m\n\u001b[0;32m      5\u001b[0m \u001b[0mg2012\u001b[0m \u001b[1;33m=\u001b[0m \u001b[0mpd\u001b[0m\u001b[1;33m.\u001b[0m\u001b[0mread_csv\u001b[0m\u001b[1;33m(\u001b[0m\u001b[1;34m'projeto/Ano-2012.csv'\u001b[0m\u001b[1;33m,\u001b[0m\u001b[0msep\u001b[0m \u001b[1;33m=\u001b[0m \u001b[1;34m';'\u001b[0m\u001b[1;33m)\u001b[0m\u001b[1;33m\u001b[0m\u001b[1;33m\u001b[0m\u001b[0m\n",
      "\u001b[1;32m~\\Anaconda3\\lib\\site-packages\\pandas\\io\\parsers.py\u001b[0m in \u001b[0;36mparser_f\u001b[1;34m(filepath_or_buffer, sep, delimiter, header, names, index_col, usecols, squeeze, prefix, mangle_dupe_cols, dtype, engine, converters, true_values, false_values, skipinitialspace, skiprows, skipfooter, nrows, na_values, keep_default_na, na_filter, verbose, skip_blank_lines, parse_dates, infer_datetime_format, keep_date_col, date_parser, dayfirst, cache_dates, iterator, chunksize, compression, thousands, decimal, lineterminator, quotechar, quoting, doublequote, escapechar, comment, encoding, dialect, error_bad_lines, warn_bad_lines, delim_whitespace, low_memory, memory_map, float_precision)\u001b[0m\n\u001b[0;32m    683\u001b[0m         )\n\u001b[0;32m    684\u001b[0m \u001b[1;33m\u001b[0m\u001b[0m\n\u001b[1;32m--> 685\u001b[1;33m         \u001b[1;32mreturn\u001b[0m \u001b[0m_read\u001b[0m\u001b[1;33m(\u001b[0m\u001b[0mfilepath_or_buffer\u001b[0m\u001b[1;33m,\u001b[0m \u001b[0mkwds\u001b[0m\u001b[1;33m)\u001b[0m\u001b[1;33m\u001b[0m\u001b[1;33m\u001b[0m\u001b[0m\n\u001b[0m\u001b[0;32m    686\u001b[0m \u001b[1;33m\u001b[0m\u001b[0m\n\u001b[0;32m    687\u001b[0m     \u001b[0mparser_f\u001b[0m\u001b[1;33m.\u001b[0m\u001b[0m__name__\u001b[0m \u001b[1;33m=\u001b[0m \u001b[0mname\u001b[0m\u001b[1;33m\u001b[0m\u001b[1;33m\u001b[0m\u001b[0m\n",
      "\u001b[1;32m~\\Anaconda3\\lib\\site-packages\\pandas\\io\\parsers.py\u001b[0m in \u001b[0;36m_read\u001b[1;34m(filepath_or_buffer, kwds)\u001b[0m\n\u001b[0;32m    455\u001b[0m \u001b[1;33m\u001b[0m\u001b[0m\n\u001b[0;32m    456\u001b[0m     \u001b[1;31m# Create the parser.\u001b[0m\u001b[1;33m\u001b[0m\u001b[1;33m\u001b[0m\u001b[1;33m\u001b[0m\u001b[0m\n\u001b[1;32m--> 457\u001b[1;33m     \u001b[0mparser\u001b[0m \u001b[1;33m=\u001b[0m \u001b[0mTextFileReader\u001b[0m\u001b[1;33m(\u001b[0m\u001b[0mfp_or_buf\u001b[0m\u001b[1;33m,\u001b[0m \u001b[1;33m**\u001b[0m\u001b[0mkwds\u001b[0m\u001b[1;33m)\u001b[0m\u001b[1;33m\u001b[0m\u001b[1;33m\u001b[0m\u001b[0m\n\u001b[0m\u001b[0;32m    458\u001b[0m \u001b[1;33m\u001b[0m\u001b[0m\n\u001b[0;32m    459\u001b[0m     \u001b[1;32mif\u001b[0m \u001b[0mchunksize\u001b[0m \u001b[1;32mor\u001b[0m \u001b[0miterator\u001b[0m\u001b[1;33m:\u001b[0m\u001b[1;33m\u001b[0m\u001b[1;33m\u001b[0m\u001b[0m\n",
      "\u001b[1;32m~\\Anaconda3\\lib\\site-packages\\pandas\\io\\parsers.py\u001b[0m in \u001b[0;36m__init__\u001b[1;34m(self, f, engine, **kwds)\u001b[0m\n\u001b[0;32m    893\u001b[0m             \u001b[0mself\u001b[0m\u001b[1;33m.\u001b[0m\u001b[0moptions\u001b[0m\u001b[1;33m[\u001b[0m\u001b[1;34m\"has_index_names\"\u001b[0m\u001b[1;33m]\u001b[0m \u001b[1;33m=\u001b[0m \u001b[0mkwds\u001b[0m\u001b[1;33m[\u001b[0m\u001b[1;34m\"has_index_names\"\u001b[0m\u001b[1;33m]\u001b[0m\u001b[1;33m\u001b[0m\u001b[1;33m\u001b[0m\u001b[0m\n\u001b[0;32m    894\u001b[0m \u001b[1;33m\u001b[0m\u001b[0m\n\u001b[1;32m--> 895\u001b[1;33m         \u001b[0mself\u001b[0m\u001b[1;33m.\u001b[0m\u001b[0m_make_engine\u001b[0m\u001b[1;33m(\u001b[0m\u001b[0mself\u001b[0m\u001b[1;33m.\u001b[0m\u001b[0mengine\u001b[0m\u001b[1;33m)\u001b[0m\u001b[1;33m\u001b[0m\u001b[1;33m\u001b[0m\u001b[0m\n\u001b[0m\u001b[0;32m    896\u001b[0m \u001b[1;33m\u001b[0m\u001b[0m\n\u001b[0;32m    897\u001b[0m     \u001b[1;32mdef\u001b[0m \u001b[0mclose\u001b[0m\u001b[1;33m(\u001b[0m\u001b[0mself\u001b[0m\u001b[1;33m)\u001b[0m\u001b[1;33m:\u001b[0m\u001b[1;33m\u001b[0m\u001b[1;33m\u001b[0m\u001b[0m\n",
      "\u001b[1;32m~\\Anaconda3\\lib\\site-packages\\pandas\\io\\parsers.py\u001b[0m in \u001b[0;36m_make_engine\u001b[1;34m(self, engine)\u001b[0m\n\u001b[0;32m   1133\u001b[0m     \u001b[1;32mdef\u001b[0m \u001b[0m_make_engine\u001b[0m\u001b[1;33m(\u001b[0m\u001b[0mself\u001b[0m\u001b[1;33m,\u001b[0m \u001b[0mengine\u001b[0m\u001b[1;33m=\u001b[0m\u001b[1;34m\"c\"\u001b[0m\u001b[1;33m)\u001b[0m\u001b[1;33m:\u001b[0m\u001b[1;33m\u001b[0m\u001b[1;33m\u001b[0m\u001b[0m\n\u001b[0;32m   1134\u001b[0m         \u001b[1;32mif\u001b[0m \u001b[0mengine\u001b[0m \u001b[1;33m==\u001b[0m \u001b[1;34m\"c\"\u001b[0m\u001b[1;33m:\u001b[0m\u001b[1;33m\u001b[0m\u001b[1;33m\u001b[0m\u001b[0m\n\u001b[1;32m-> 1135\u001b[1;33m             \u001b[0mself\u001b[0m\u001b[1;33m.\u001b[0m\u001b[0m_engine\u001b[0m \u001b[1;33m=\u001b[0m \u001b[0mCParserWrapper\u001b[0m\u001b[1;33m(\u001b[0m\u001b[0mself\u001b[0m\u001b[1;33m.\u001b[0m\u001b[0mf\u001b[0m\u001b[1;33m,\u001b[0m \u001b[1;33m**\u001b[0m\u001b[0mself\u001b[0m\u001b[1;33m.\u001b[0m\u001b[0moptions\u001b[0m\u001b[1;33m)\u001b[0m\u001b[1;33m\u001b[0m\u001b[1;33m\u001b[0m\u001b[0m\n\u001b[0m\u001b[0;32m   1136\u001b[0m         \u001b[1;32melse\u001b[0m\u001b[1;33m:\u001b[0m\u001b[1;33m\u001b[0m\u001b[1;33m\u001b[0m\u001b[0m\n\u001b[0;32m   1137\u001b[0m             \u001b[1;32mif\u001b[0m \u001b[0mengine\u001b[0m \u001b[1;33m==\u001b[0m \u001b[1;34m\"python\"\u001b[0m\u001b[1;33m:\u001b[0m\u001b[1;33m\u001b[0m\u001b[1;33m\u001b[0m\u001b[0m\n",
      "\u001b[1;32m~\\Anaconda3\\lib\\site-packages\\pandas\\io\\parsers.py\u001b[0m in \u001b[0;36m__init__\u001b[1;34m(self, src, **kwds)\u001b[0m\n\u001b[0;32m   1915\u001b[0m         \u001b[0mkwds\u001b[0m\u001b[1;33m[\u001b[0m\u001b[1;34m\"usecols\"\u001b[0m\u001b[1;33m]\u001b[0m \u001b[1;33m=\u001b[0m \u001b[0mself\u001b[0m\u001b[1;33m.\u001b[0m\u001b[0musecols\u001b[0m\u001b[1;33m\u001b[0m\u001b[1;33m\u001b[0m\u001b[0m\n\u001b[0;32m   1916\u001b[0m \u001b[1;33m\u001b[0m\u001b[0m\n\u001b[1;32m-> 1917\u001b[1;33m         \u001b[0mself\u001b[0m\u001b[1;33m.\u001b[0m\u001b[0m_reader\u001b[0m \u001b[1;33m=\u001b[0m \u001b[0mparsers\u001b[0m\u001b[1;33m.\u001b[0m\u001b[0mTextReader\u001b[0m\u001b[1;33m(\u001b[0m\u001b[0msrc\u001b[0m\u001b[1;33m,\u001b[0m \u001b[1;33m**\u001b[0m\u001b[0mkwds\u001b[0m\u001b[1;33m)\u001b[0m\u001b[1;33m\u001b[0m\u001b[1;33m\u001b[0m\u001b[0m\n\u001b[0m\u001b[0;32m   1918\u001b[0m         \u001b[0mself\u001b[0m\u001b[1;33m.\u001b[0m\u001b[0munnamed_cols\u001b[0m \u001b[1;33m=\u001b[0m \u001b[0mself\u001b[0m\u001b[1;33m.\u001b[0m\u001b[0m_reader\u001b[0m\u001b[1;33m.\u001b[0m\u001b[0munnamed_cols\u001b[0m\u001b[1;33m\u001b[0m\u001b[1;33m\u001b[0m\u001b[0m\n\u001b[0;32m   1919\u001b[0m \u001b[1;33m\u001b[0m\u001b[0m\n",
      "\u001b[1;32mpandas\\_libs\\parsers.pyx\u001b[0m in \u001b[0;36mpandas._libs.parsers.TextReader.__cinit__\u001b[1;34m()\u001b[0m\n",
      "\u001b[1;32mpandas\\_libs\\parsers.pyx\u001b[0m in \u001b[0;36mpandas._libs.parsers.TextReader._setup_parser_source\u001b[1;34m()\u001b[0m\n",
      "\u001b[1;31mFileNotFoundError\u001b[0m: [Errno 2] File b'projeto/Ano-2008.csv' does not exist: b'projeto/Ano-2008.csv'"
     ]
    }
   ],
   "source": [
    "g2008 = pd.read_csv('projeto/Ano-2008.csv',sep = ';')\n",
    "g2009 = pd.read_csv('projeto/Ano-2009.csv',sep = ';')\n",
    "g2010 = pd.read_csv('projeto/Ano-2010.csv',sep = ';')\n",
    "g2011 = pd.read_csv('projeto/Ano-2011.csv',sep = ';')\n",
    "g2012 = pd.read_csv('projeto/Ano-2012.csv',sep = ';')\n",
    "g2013 = pd.read_csv('projeto/Ano-2013.csv',sep = ';')\n",
    "g2014 = pd.read_csv('projeto/Ano-2014.csv',sep = ';')\n",
    "g2015 = pd.read_csv('projeto/Ano-2015.csv',sep = ';')\n",
    "g2016 = pd.read_csv('projeto/Ano-2016.csv',sep = ';')\n",
    "g2017 = pd.read_csv('projeto/Ano-2017.csv',sep = ';')\n",
    "g2018 = pd.read_csv('projeto/Ano-2018.csv',sep = ';')\n",
    "g2019 = pd.read_csv('projeto/Ano-2019.csv',sep = ';')"
   ]
  },
  {
   "cell_type": "markdown",
   "metadata": {},
   "source": [
    "### Concatenando e filtrando somente os dados necessários."
   ]
  },
  {
   "cell_type": "code",
   "execution_count": 6,
   "metadata": {},
   "outputs": [
    {
     "ename": "NameError",
     "evalue": "name 'g2009' is not defined",
     "output_type": "error",
     "traceback": [
      "\u001b[1;31m---------------------------------------------------------------------------\u001b[0m",
      "\u001b[1;31mNameError\u001b[0m                                 Traceback (most recent call last)",
      "\u001b[1;32m<ipython-input-6-f57ead8c036a>\u001b[0m in \u001b[0;36m<module>\u001b[1;34m\u001b[0m\n\u001b[1;32m----> 1\u001b[1;33m \u001b[0mgAll\u001b[0m \u001b[1;33m=\u001b[0m \u001b[0mpd\u001b[0m\u001b[1;33m.\u001b[0m\u001b[0mconcat\u001b[0m\u001b[1;33m(\u001b[0m\u001b[1;33m[\u001b[0m\u001b[0mg2009\u001b[0m\u001b[1;33m,\u001b[0m\u001b[0mg2010\u001b[0m\u001b[1;33m,\u001b[0m\u001b[0mg2011\u001b[0m\u001b[1;33m,\u001b[0m\u001b[0mg2012\u001b[0m\u001b[1;33m,\u001b[0m\u001b[0mg2013\u001b[0m\u001b[1;33m,\u001b[0m\u001b[0mg2014\u001b[0m\u001b[1;33m,\u001b[0m\u001b[0mg2015\u001b[0m\u001b[1;33m,\u001b[0m\u001b[0mg2016\u001b[0m\u001b[1;33m,\u001b[0m\u001b[0mg2017\u001b[0m\u001b[1;33m,\u001b[0m\u001b[0mg2018\u001b[0m\u001b[1;33m,\u001b[0m\u001b[0mg2019\u001b[0m\u001b[1;33m]\u001b[0m\u001b[1;33m)\u001b[0m\u001b[1;33m\u001b[0m\u001b[1;33m\u001b[0m\u001b[0m\n\u001b[0m",
      "\u001b[1;31mNameError\u001b[0m: name 'g2009' is not defined"
     ]
    }
   ],
   "source": [
    "gAll = pd.concat([g2009,g2010,g2011,g2012,g2013,g2014,g2015,g2016,g2017,g2018,g2019])"
   ]
  },
  {
   "cell_type": "code",
   "execution_count": null,
   "metadata": {},
   "outputs": [],
   "source": [
    "gAll.columns"
   ]
  },
  {
   "cell_type": "code",
   "execution_count": null,
   "metadata": {},
   "outputs": [],
   "source": [
    "filt = gAll.iloc[0:,[0,4,5,7,17,18,19]]"
   ]
  },
  {
   "cell_type": "code",
   "execution_count": null,
   "metadata": {
    "scrolled": true
   },
   "outputs": [],
   "source": [
    "filt"
   ]
  },
  {
   "cell_type": "markdown",
   "metadata": {},
   "source": [
    "### Removendo os dados faltosos da coluna dos \"Partidos\"."
   ]
  },
  {
   "cell_type": "code",
   "execution_count": 3,
   "metadata": {
    "scrolled": true
   },
   "outputs": [
    {
     "ename": "NameError",
     "evalue": "name 'filt' is not defined",
     "output_type": "error",
     "traceback": [
      "\u001b[1;31m---------------------------------------------------------------------------\u001b[0m",
      "\u001b[1;31mNameError\u001b[0m                                 Traceback (most recent call last)",
      "\u001b[1;32m<ipython-input-3-2e977fd2e5f4>\u001b[0m in \u001b[0;36m<module>\u001b[1;34m\u001b[0m\n\u001b[1;32m----> 1\u001b[1;33m \u001b[0mfilt\u001b[0m\u001b[1;33m.\u001b[0m\u001b[0mupdate\u001b[0m\u001b[1;33m(\u001b[0m\u001b[0mfilt\u001b[0m\u001b[1;33m[\u001b[0m\u001b[1;34m'sgPartido'\u001b[0m\u001b[1;33m]\u001b[0m\u001b[1;33m.\u001b[0m\u001b[0mfillna\u001b[0m\u001b[1;33m(\u001b[0m\u001b[1;34m'test'\u001b[0m\u001b[1;33m)\u001b[0m\u001b[1;33m)\u001b[0m\u001b[1;33m\u001b[0m\u001b[1;33m\u001b[0m\u001b[0m\n\u001b[0m",
      "\u001b[1;31mNameError\u001b[0m: name 'filt' is not defined"
     ]
    }
   ],
   "source": [
    "filt.update(filt['sgPartido'].fillna('test'))"
   ]
  },
  {
   "cell_type": "markdown",
   "metadata": {},
   "source": [
    "### Coletando todos os partidos dos e adicionando a uma lista."
   ]
  },
  {
   "cell_type": "code",
   "execution_count": null,
   "metadata": {},
   "outputs": [],
   "source": [
    "filt['sgPartido'] = filt['sgPartido']*-1"
   ]
  },
  {
   "cell_type": "markdown",
   "metadata": {},
   "source": [
    "#### Separando por partidos."
   ]
  },
  {
   "cell_type": "code",
   "execution_count": null,
   "metadata": {
    "scrolled": true
   },
   "outputs": [],
   "source": [
    "a = filt.groupby([filt['sgPartido']])\n",
    "a.first()"
   ]
  },
  {
   "cell_type": "markdown",
   "metadata": {},
   "source": [
    "#### Total Gasto em todos os Anos."
   ]
  },
  {
   "cell_type": "code",
   "execution_count": null,
   "metadata": {},
   "outputs": [],
   "source": [
    "filt['vlrLiquido'].sum()"
   ]
  },
  {
   "cell_type": "markdown",
   "metadata": {},
   "source": [
    "#### Total Gasto em cada ano separadamente."
   ]
  },
  {
   "cell_type": "code",
   "execution_count": null,
   "metadata": {},
   "outputs": [],
   "source": [
    "total2009 = g2009['vlrLiquido'].sum()\n",
    "total2010 = g2010['vlrLiquido'].sum()\n",
    "total2011 = g2011['vlrLiquido'].sum()\n",
    "total2012 = g2012['vlrLiquido'].sum()\n",
    "total2013 = g2013['vlrLiquido'].sum()\n",
    "total2014 = g2014['vlrLiquido'].sum()\n",
    "total2015 = g2015['vlrLiquido'].sum()\n",
    "total2016 = g2016['vlrLiquido'].sum()\n",
    "total2017 = g2017['vlrLiquido'].sum()\n",
    "total2018 = g2018['vlrLiquido'].sum()\n",
    "total2019 = g2019['vlrLiquido'].sum()\n",
    "\n",
    "df = pd.DataFrame({'Gastos': [total2009, total2010, total2011, total2012,total2013,total2014,total2015,total2016,total2017,total2018,total2019]},\n",
    " index=['2009','2010', '2011','2012','2013','2014','2015','2016','2017','2018','2019'])\n",
    "\n",
    "plt.title('Gastos dos Deputados,2009-2019')\n",
    "plt.xlabel('Ano')\n",
    "plt.ylabel('R$ em 100 Milhões')\n",
    "df['Gastos'].plot.bar()"
   ]
  },
  {
   "cell_type": "markdown",
   "metadata": {},
   "source": [
    "###### Podemos notar que de 2009 ate 2017 os gastos aumentarão significadamente e em 2018 houve um pouco menos de gastos.\n",
    "Obs: Os gastos de 2019 estão incompletos."
   ]
  },
  {
   "cell_type": "markdown",
   "metadata": {},
   "source": [
    "### Gastos mensais por ano."
   ]
  },
  {
   "cell_type": "code",
   "execution_count": null,
   "metadata": {
    "scrolled": true
   },
   "outputs": [],
   "source": [
    "plt.title('Gastos dos Deputados,Jan-Dez/2009')\n",
    "plt.xlabel('Mês')\n",
    "plt.ylabel('R$ em Bilhões')\n",
    "soma_mes2009 = g2009.groupby(['numMes']).sum()['vlrLiquido']\n",
    "soma_mes2009.plot()"
   ]
  },
  {
   "cell_type": "code",
   "execution_count": null,
   "metadata": {},
   "outputs": [],
   "source": [
    "plt.title('Gastos dos Deputados,Jan-Dez/2010')\n",
    "plt.xlabel('Mês')\n",
    "plt.ylabel('R$ em Bilhões')\n",
    "soma_mes2010 = g2010.groupby(['numMes']).sum()['vlrLiquido']\n",
    "soma_mes2010.plot()"
   ]
  },
  {
   "cell_type": "code",
   "execution_count": null,
   "metadata": {},
   "outputs": [],
   "source": [
    "plt.title('Gastos dos Deputados,Jan-Dez/2011')\n",
    "plt.xlabel('Mês')\n",
    "plt.ylabel('R$ em Bilhões')\n",
    "soma_mes2011 = g2011.groupby(['numMes']).sum()['vlrLiquido']\n",
    "soma_mes2011.plot()"
   ]
  },
  {
   "cell_type": "code",
   "execution_count": null,
   "metadata": {},
   "outputs": [],
   "source": [
    "plt.title('Gastos dos Deputados,Jan-Dez/2012')\n",
    "plt.xlabel('Mês')\n",
    "plt.ylabel('R$ em Bilhões')\n",
    "soma_mes2012 = g2012.groupby(['numMes']).sum()['vlrLiquido']\n",
    "soma_mes2012.plot()"
   ]
  },
  {
   "cell_type": "code",
   "execution_count": null,
   "metadata": {},
   "outputs": [],
   "source": [
    "plt.title('Gastos dos Deputados,Jan-Dez/2013')\n",
    "plt.xlabel('Mês')\n",
    "plt.ylabel('R$ em Bilhões')\n",
    "soma_mes2013 = g2013.groupby(['numMes']).sum()['vlrLiquido']\n",
    "soma_mes2013.plot()"
   ]
  },
  {
   "cell_type": "code",
   "execution_count": null,
   "metadata": {},
   "outputs": [],
   "source": [
    "plt.title('Gastos dos Deputados,Jan-Dez/2014')\n",
    "plt.xlabel('Mês')\n",
    "plt.ylabel('R$ em Bilhões')\n",
    "soma_mes2014 = g2014.groupby(['numMes']).sum()['vlrLiquido']\n",
    "soma_mes2014.plot()"
   ]
  },
  {
   "cell_type": "code",
   "execution_count": null,
   "metadata": {},
   "outputs": [],
   "source": [
    "plt.title('Gastos dos Deputados,Jan-Dez/2015')\n",
    "plt.xlabel('Mês')\n",
    "plt.ylabel('R$ em Bilhões')\n",
    "soma_mes2015 = g2015.groupby(['numMes']).sum()['vlrLiquido']\n",
    "soma_mes2015.plot()"
   ]
  },
  {
   "cell_type": "code",
   "execution_count": null,
   "metadata": {},
   "outputs": [],
   "source": [
    "plt.title('Gastos dos Deputados,Jan-Dez/2016')\n",
    "plt.xlabel('Mês')\n",
    "plt.ylabel('R$ em Bilhões')\n",
    "soma_mes2016 = g2016.groupby(['numMes']).sum()['vlrLiquido']\n",
    "soma_mes2016.plot()"
   ]
  },
  {
   "cell_type": "code",
   "execution_count": null,
   "metadata": {},
   "outputs": [],
   "source": [
    "plt.title('Gastos dos Deputados,Jan-Dez/2017')\n",
    "plt.xlabel('Mês')\n",
    "plt.ylabel('R$ em Bilhões')\n",
    "soma_mes2017 = g2017.groupby(['numMes']).sum()['vlrLiquido']\n",
    "soma_mes2017.plot()"
   ]
  },
  {
   "cell_type": "code",
   "execution_count": null,
   "metadata": {},
   "outputs": [],
   "source": [
    "plt.title('Gastos dos Deputados,Jan-Dez/2018')\n",
    "plt.xlabel('Mês')\n",
    "plt.ylabel('R$ em Bilhões')\n",
    "soma_mes2018 = g2018.groupby(['numMes']).sum()['vlrLiquido']\n",
    "soma_mes2018.plot()"
   ]
  },
  {
   "cell_type": "code",
   "execution_count": null,
   "metadata": {},
   "outputs": [],
   "source": [
    "soma_mes2019 = g2019.groupby(['numMes']).sum()['vlrLiquido']\n",
    "plt.title('Gastos dos Deputados,Jan-Dez/2019')\n",
    "plt.xlabel('Mês')\n",
    "plt.ylabel('R$ em Bilhões')\n",
    "soma_mes2019.plot()"
   ]
  },
  {
   "cell_type": "code",
   "execution_count": null,
   "metadata": {},
   "outputs": [],
   "source": [
    "soma_mesAll = gAll.groupby(['numMes']).sum()['vlrLiquido']"
   ]
  },
  {
   "cell_type": "code",
   "execution_count": null,
   "metadata": {},
   "outputs": [],
   "source": [
    "plt.title('Gastos dos Deputados,Jan-Dez/2019')\n",
    "plt.xlabel('Mês')\n",
    "plt.ylabel('R$ em 100 milhões')\n",
    "soma_mesAll.plot()"
   ]
  },
  {
   "cell_type": "markdown",
   "metadata": {},
   "source": [
    "#### •Podemos notar que geralmente no fim do ano(Outubro - Dezembro), os gastos chegam ao seus valores máximos, e que no meio do ano (Maio - Agosto) ha um decrescimentos dos gastos."
   ]
  },
  {
   "cell_type": "markdown",
   "metadata": {},
   "source": [
    "### Quantidade de serviços solicitados em cada ano."
   ]
  },
  {
   "cell_type": "code",
   "execution_count": null,
   "metadata": {},
   "outputs": [],
   "source": [
    "Qntd2009 = g2009['txtDescricao'].value_counts()\n",
    "plt.title('Quantidade de Serviços / 2009')\n",
    "plt.xlabel('Serviços')\n",
    "plt.ylabel('Quantidade')\n",
    "Qntd2009.T.plot.bar()"
   ]
  },
  {
   "cell_type": "code",
   "execution_count": null,
   "metadata": {},
   "outputs": [],
   "source": [
    "Qntd2010 = g2010['txtDescricao'].value_counts()\n",
    "plt.title('Quantidade de Serviços / 2010')\n",
    "plt.xlabel('Serviços')\n",
    "plt.ylabel('Quantidade')\n",
    "Qntd2010.T.plot.bar()"
   ]
  },
  {
   "cell_type": "code",
   "execution_count": null,
   "metadata": {},
   "outputs": [],
   "source": [
    "Qntd2011 = g2011['txtDescricao'].value_counts()\n",
    "plt.title('Quantidade de Serviços / 2011')\n",
    "plt.xlabel('Serviços')\n",
    "plt.ylabel('Quantidade')\n",
    "Qntd2011.T.plot.bar()"
   ]
  },
  {
   "cell_type": "code",
   "execution_count": null,
   "metadata": {},
   "outputs": [],
   "source": [
    "Qntd2012 = g2012['txtDescricao'].value_counts()\n",
    "plt.title('Quantidade de Serviços / 2012')\n",
    "plt.xlabel('Serviços')\n",
    "plt.ylabel('Quantidade')\n",
    "Qntd2012.T.plot.bar()"
   ]
  },
  {
   "cell_type": "code",
   "execution_count": null,
   "metadata": {},
   "outputs": [],
   "source": [
    "Qntd2013 = g2013['txtDescricao'].value_counts()\n",
    "plt.title('Quantidade de Serviços / 2013')\n",
    "plt.xlabel('Serviços')\n",
    "plt.ylabel('Quantidade')\n",
    "Qntd2013.T.plot.bar()"
   ]
  },
  {
   "cell_type": "code",
   "execution_count": null,
   "metadata": {},
   "outputs": [],
   "source": [
    "Qntd2014 = g2014['txtDescricao'].value_counts()\n",
    "plt.title('Quantidade de Serviços / 2014')\n",
    "plt.xlabel('Serviços')\n",
    "plt.ylabel('Quantidade')\n",
    "Qntd2014.T.plot.bar()"
   ]
  },
  {
   "cell_type": "code",
   "execution_count": null,
   "metadata": {},
   "outputs": [],
   "source": [
    "Qntd2015 = g2015['txtDescricao'].value_counts()\n",
    "plt.title('Quantidade de Serviços / 2015')\n",
    "plt.xlabel('Serviços')\n",
    "plt.ylabel('Quantidade')\n",
    "Qntd2015.T.plot.bar()"
   ]
  },
  {
   "cell_type": "code",
   "execution_count": null,
   "metadata": {},
   "outputs": [],
   "source": [
    "Qntd2016 = g2016['txtDescricao'].value_counts()\n",
    "plt.title('Quantidade de Serviços / 2016')\n",
    "plt.xlabel('Serviços')\n",
    "plt.ylabel('Quantidade')\n",
    "Qntd2016.T.plot.bar()"
   ]
  },
  {
   "cell_type": "code",
   "execution_count": null,
   "metadata": {},
   "outputs": [],
   "source": [
    "Qntd2017 = g2017['txtDescricao'].value_counts()\n",
    "plt.title('Quantidade de Serviços / 2017')\n",
    "plt.xlabel('Serviços')\n",
    "plt.ylabel('Quantidade')\n",
    "Qntd2017.T.plot.bar()"
   ]
  },
  {
   "cell_type": "code",
   "execution_count": null,
   "metadata": {},
   "outputs": [],
   "source": [
    "Qntd2018 = g2018['txtDescricao'].value_counts()\n",
    "plt.title('Quantidade de Serviços / 2018')\n",
    "plt.xlabel('Serviços')\n",
    "plt.ylabel('Quantidade')\n",
    "Qntd2018.T.plot.bar()"
   ]
  },
  {
   "cell_type": "code",
   "execution_count": null,
   "metadata": {},
   "outputs": [],
   "source": [
    "Qntd2019 = g2019['txtDescricao'].value_counts()\n",
    "plt.title('Quantidade de Serviços / 2019')\n",
    "plt.xlabel('Serviços')\n",
    "plt.ylabel('Quantidade')\n",
    "Qntd2019.T.plot.bar()"
   ]
  },
  {
   "cell_type": "code",
   "execution_count": null,
   "metadata": {},
   "outputs": [],
   "source": [
    "QntdALL = pd.DataFrame([Qntd2009,Qntd2010,Qntd2011,Qntd2012,Qntd2013,Qntd2014,Qntd2015,Qntd2016,Qntd2017,Qntd2018,Qntd2019,],index = ['2009','2010','2011','2012','2013','2014','2015','2016','2017','2018','2019',])"
   ]
  },
  {
   "cell_type": "code",
   "execution_count": null,
   "metadata": {},
   "outputs": [],
   "source": [
    "QntdALL.T.plot.bar()"
   ]
  },
  {
   "cell_type": "markdown",
   "metadata": {},
   "source": [
    "#### Na maioria dos anos o que mais se provoca gastos são emissões de bilhetes aéreos, telefonia e combustíveis ."
   ]
  },
  {
   "cell_type": "markdown",
   "metadata": {},
   "source": [
    "### Serviços que foram solicitados em todos os anos(2009 - 2019)."
   ]
  },
  {
   "cell_type": "code",
   "execution_count": null,
   "metadata": {},
   "outputs": [],
   "source": [
    "QntdALL1 = gAll['txtDescricao'].value_counts()"
   ]
  },
  {
   "cell_type": "code",
   "execution_count": null,
   "metadata": {},
   "outputs": [],
   "source": [
    "plt.xlabel('Serviços')\n",
    "plt.ylabel('Quantidade')\n",
    "QntdALL1.T.plot.bar()"
   ]
  },
  {
   "cell_type": "markdown",
   "metadata": {},
   "source": [
    "## Gastos de cada partido por ano."
   ]
  },
  {
   "cell_type": "code",
   "execution_count": null,
   "metadata": {},
   "outputs": [],
   "source": [
    "plt.ylabel('R$ em Milhões')\n",
    "gastos_partidos2009 = g2009.groupby(['sgPartido']).sum()['vlrLiquido'].T.plot.bar()"
   ]
  },
  {
   "cell_type": "code",
   "execution_count": null,
   "metadata": {},
   "outputs": [],
   "source": [
    "plt.ylabel('R$ em Milhões')\n",
    "gastos_partidos2010 = g2010.groupby(['sgPartido']).sum()['vlrLiquido'].T.plot.bar()"
   ]
  },
  {
   "cell_type": "code",
   "execution_count": null,
   "metadata": {},
   "outputs": [],
   "source": [
    "plt.ylabel('R$ em Milhões')\n",
    "gastos_partidos2011 = g2011.groupby(['sgPartido']).sum()['vlrLiquido'].T.plot.bar()"
   ]
  },
  {
   "cell_type": "code",
   "execution_count": null,
   "metadata": {},
   "outputs": [],
   "source": [
    "plt.ylabel('R$ em Milhões')\n",
    "gastos_partidos2012 = g2012.groupby(['sgPartido']).sum()['vlrLiquido'].T.plot.bar()"
   ]
  },
  {
   "cell_type": "code",
   "execution_count": null,
   "metadata": {},
   "outputs": [],
   "source": [
    "plt.ylabel('R$ em Milhões')\n",
    "gastos_partidos2013 = g2013.groupby(['sgPartido']).sum()['vlrLiquido'].T.plot.bar()"
   ]
  },
  {
   "cell_type": "code",
   "execution_count": null,
   "metadata": {},
   "outputs": [],
   "source": [
    "plt.ylabel('R$ em Milhões')\n",
    "gastos_partidos2014 = g2014.groupby(['sgPartido']).sum()['vlrLiquido'].T.plot.bar()"
   ]
  },
  {
   "cell_type": "code",
   "execution_count": null,
   "metadata": {},
   "outputs": [],
   "source": [
    "plt.ylabel('R$ em Milhões')\n",
    "gastos_partidos2015 = g2015.groupby(['sgPartido']).sum()['vlrLiquido'].T.plot.bar()"
   ]
  },
  {
   "cell_type": "code",
   "execution_count": null,
   "metadata": {},
   "outputs": [],
   "source": [
    "plt.ylabel('R$ em Milhões')\n",
    "gastos_partidos2016 = g2016.groupby(['sgPartido']).sum()['vlrLiquido'].T.plot.bar()"
   ]
  },
  {
   "cell_type": "code",
   "execution_count": null,
   "metadata": {},
   "outputs": [],
   "source": [
    "plt.ylabel('R$ em Milhões')\n",
    "gastos_partidos2017 = g2017.groupby(['sgPartido']).sum()['vlrLiquido'].T.plot.bar()"
   ]
  },
  {
   "cell_type": "code",
   "execution_count": null,
   "metadata": {},
   "outputs": [],
   "source": [
    "plt.ylabel('R$ em Milhões')\n",
    "gastos_partidos2018 = g2018.groupby(['sgPartido']).sum()['vlrLiquido'].T.plot.bar()"
   ]
  },
  {
   "cell_type": "code",
   "execution_count": null,
   "metadata": {},
   "outputs": [],
   "source": [
    "plt.ylabel('R$ em Milhões')\n",
    "gastos_partidos2019 = g2019.groupby(['sgPartido']).sum()['vlrLiquido'].T.plot.bar()"
   ]
  },
  {
   "cell_type": "markdown",
   "metadata": {},
   "source": [
    "## Gastos de cada partido em todos anos(2009-2019)."
   ]
  },
  {
   "cell_type": "code",
   "execution_count": null,
   "metadata": {},
   "outputs": [],
   "source": [
    "plt.ylabel('R$ em 100 Milhões')\n",
    "gastoTotal = gAll.groupby(['sgPartido']).sum()['vlrLiquido'].T.plot.bar()"
   ]
  },
  {
   "cell_type": "markdown",
   "metadata": {},
   "source": [
    "## Gastos de cada serviço por ano. "
   ]
  },
  {
   "cell_type": "code",
   "execution_count": null,
   "metadata": {},
   "outputs": [],
   "source": [
    "plt.ylabel('R$ em 10 Milhões')\n",
    "gastos_sep2009 = g2009.groupby(['txtDescricao']).sum()['vlrLiquido'].T.plot.bar()"
   ]
  },
  {
   "cell_type": "code",
   "execution_count": null,
   "metadata": {},
   "outputs": [],
   "source": [
    "plt.ylabel('R$ em 10 Milhões')\n",
    "gastos_sep2010 = g2010.groupby(['txtDescricao']).sum()['vlrLiquido'].T.plot.bar()"
   ]
  },
  {
   "cell_type": "code",
   "execution_count": null,
   "metadata": {},
   "outputs": [],
   "source": [
    "plt.ylabel('R$ em 10 Milhões')\n",
    "gastos_sep2011 = g2011.groupby(['txtDescricao']).sum()['vlrLiquido'].T.plot.bar()"
   ]
  },
  {
   "cell_type": "code",
   "execution_count": null,
   "metadata": {},
   "outputs": [],
   "source": [
    "plt.ylabel('R$ em 10 Milhões')\n",
    "gastos_sep2012 = g2012.groupby(['txtDescricao']).sum()['vlrLiquido'].T.plot.bar()"
   ]
  },
  {
   "cell_type": "code",
   "execution_count": null,
   "metadata": {},
   "outputs": [],
   "source": [
    "plt.ylabel('R$ em 10 Milhões')\n",
    "gastos_sep2013 = g2013.groupby(['txtDescricao']).sum()['vlrLiquido'].T.plot.bar()"
   ]
  },
  {
   "cell_type": "code",
   "execution_count": null,
   "metadata": {},
   "outputs": [],
   "source": [
    "plt.ylabel('R$ em 10 Milhões')\n",
    "gastos_sep2014 = g2014.groupby(['txtDescricao']).sum()['vlrLiquido'].T.plot.bar()"
   ]
  },
  {
   "cell_type": "code",
   "execution_count": null,
   "metadata": {},
   "outputs": [],
   "source": [
    "plt.ylabel('R$ em 10 Milhões')\n",
    "gastos_sep2015 = g2015.groupby(['txtDescricao']).sum()['vlrLiquido'].T.plot.bar()"
   ]
  },
  {
   "cell_type": "code",
   "execution_count": null,
   "metadata": {},
   "outputs": [],
   "source": [
    "plt.ylabel('R$ em 10 Milhões')\n",
    "gastos_sep2016 = g2016.groupby(['txtDescricao']).sum()['vlrLiquido'].T.plot.bar()"
   ]
  },
  {
   "cell_type": "code",
   "execution_count": null,
   "metadata": {},
   "outputs": [],
   "source": [
    "plt.ylabel('R$ em 10 Milhões')\n",
    "gastos_sep2017 = g2017.groupby(['txtDescricao']).sum()['vlrLiquido'].T.plot.bar()"
   ]
  },
  {
   "cell_type": "code",
   "execution_count": null,
   "metadata": {},
   "outputs": [],
   "source": [
    "plt.ylabel('R$ em 10 Milhões')\n",
    "gastos_sep2018 = g2018.groupby(['txtDescricao']).sum()['vlrLiquido'].T.plot.bar()"
   ]
  },
  {
   "cell_type": "code",
   "execution_count": null,
   "metadata": {},
   "outputs": [],
   "source": [
    "plt.ylabel('R$ em 10 Milhões')\n",
    "gastos_sep2019 = g2019.groupby(['txtDescricao']).sum()['vlrLiquido'].T.plot.bar()"
   ]
  },
  {
   "cell_type": "markdown",
   "metadata": {},
   "source": [
    "## Gastos de cada serviço em todos os anos(2009-2019)."
   ]
  },
  {
   "cell_type": "code",
   "execution_count": null,
   "metadata": {},
   "outputs": [],
   "source": [
    "plt.ylabel('R$ em 100 Milhões')\n",
    "gastos_sepT = gAll.groupby(['txtDescricao']).sum()['vlrLiquido'].T.plot.bar()"
   ]
  },
  {
   "cell_type": "markdown",
   "metadata": {},
   "source": [
    "## Gastos em relação a quantidade de habitantes em 2018."
   ]
  },
  {
   "cell_type": "code",
   "execution_count": null,
   "metadata": {},
   "outputs": [],
   "source": [
    "g2018.groupby(['sgUF']).sum()['vlrLiquido'].plot.bar()"
   ]
  },
  {
   "cell_type": "markdown",
   "metadata": {},
   "source": [
    "### Gastos de cada Estado (2009 - 2019)."
   ]
  },
  {
   "cell_type": "code",
   "execution_count": null,
   "metadata": {
    "scrolled": true
   },
   "outputs": [],
   "source": [
    "plt.title('Gastos por Estado (2009 - 2019)')\n",
    "plt.ylabel('R$ em 100 milhões')\n",
    "gAll.groupby(['sgUF']).sum()['vlrLiquido'].plot.bar()"
   ]
  },
  {
   "cell_type": "markdown",
   "metadata": {},
   "source": [
    "### Gastos por região(2009 - 2019)."
   ]
  },
  {
   "cell_type": "code",
   "execution_count": null,
   "metadata": {},
   "outputs": [],
   "source": [
    "NE = ['PE','PB','BA','CE','RN','AL','SE','PI','MA']\n",
    "NO = ['AM','AC','RO','PA','RR','AP','TO']\n",
    "CO = ['MT','MS','GO','DF']\n",
    "SUL = ['RS','PR','SC']\n",
    "SUD = ['MG','RJ','SP','ES']\n",
    "\n",
    "UF = []"
   ]
  },
  {
   "cell_type": "code",
   "execution_count": null,
   "metadata": {},
   "outputs": [],
   "source": [
    "for x in gAll['sgUF']:\n",
    "    if x in NE:\n",
    "        UF.append('Nordeste')\n",
    "    elif x in NO:\n",
    "        UF.append('Norte')\n",
    "    elif x in CO:\n",
    "        UF.append('Centro-Oeste')\n",
    "    elif x in SUL:\n",
    "        UF.append('Sul')\n",
    "    elif x in SUD:\n",
    "        UF.append('Sudeste')"
   ]
  },
  {
   "cell_type": "code",
   "execution_count": null,
   "metadata": {},
   "outputs": [],
   "source": [
    "dic = {'Região':UF}\n",
    "regi = pd.DataFrame(dic)\n",
    "gAll['Região'] = regi"
   ]
  },
  {
   "cell_type": "code",
   "execution_count": null,
   "metadata": {},
   "outputs": [],
   "source": [
    "plt.xlabel('R$ em 100 Milhões')\n",
    "gAll.groupby(['Região']).sum()['vlrLiquido'].plot.barh()"
   ]
  },
  {
   "cell_type": "code",
   "execution_count": null,
   "metadata": {},
   "outputs": [],
   "source": [
    "gAll.groupby(['Região']).sum()['vlrLiquido'][3]"
   ]
  },
  {
   "cell_type": "code",
   "execution_count": null,
   "metadata": {},
   "outputs": [],
   "source": []
  }
 ],
 "metadata": {
  "kernelspec": {
   "display_name": "Python 3",
   "language": "python",
   "name": "python3"
  },
  "language_info": {
   "codemirror_mode": {
    "name": "ipython",
    "version": 3
   },
   "file_extension": ".py",
   "mimetype": "text/x-python",
   "name": "python",
   "nbconvert_exporter": "python",
   "pygments_lexer": "ipython3",
   "version": "3.7.4"
  }
 },
 "nbformat": 4,
 "nbformat_minor": 2
}
